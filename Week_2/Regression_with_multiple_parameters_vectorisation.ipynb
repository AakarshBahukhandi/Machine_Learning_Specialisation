{
 "cells": [
  {
   "cell_type": "markdown",
   "id": "af9aa4c5",
   "metadata": {},
   "source": [
    "In this File i have performed regression and founded price for a houses with multiple parameters....\n"
   ]
  },
  {
   "cell_type": "code",
   "execution_count": 2,
   "id": "cdd19e76",
   "metadata": {},
   "outputs": [],
   "source": [
    "import numpy as np"
   ]
  },
  {
   "cell_type": "markdown",
   "id": "549ae3b4",
   "metadata": {},
   "source": [
    "Noting the information required to perform regression "
   ]
  },
  {
   "cell_type": "code",
   "execution_count": 3,
   "id": "36fd63c4",
   "metadata": {},
   "outputs": [],
   "source": [
    "w=np.array([1.0,2.5,-3.3])\n",
    "b=4\n",
    "x=np.array([10,20,30]) #x reprents the column vector for a case with 3 features"
   ]
  },
  {
   "cell_type": "markdown",
   "id": "4bc3c367",
   "metadata": {},
   "source": [
    "*Way 1*- Using Arrays and directly using the formula for the function (i.e->*Y=w1x1+w2x2..+wnxn+b*)"
   ]
  },
  {
   "cell_type": "code",
   "execution_count": 4,
   "id": "cb64b6d9",
   "metadata": {},
   "outputs": [
    {
     "name": "stdout",
     "output_type": "stream",
     "text": [
      "-35.0\n"
     ]
    }
   ],
   "source": [
    "f=w[0]*x[0]+w[1]*x[1]+w[2]*x[2]+b\n",
    "print(f)"
   ]
  },
  {
   "cell_type": "markdown",
   "id": "ba6d4163",
   "metadata": {},
   "source": [
    "*Way2*- Using for loop to get f and chaning the j or index in it"
   ]
  },
  {
   "cell_type": "code",
   "execution_count": 5,
   "id": "e49d626f",
   "metadata": {},
   "outputs": [
    {
     "name": "stdout",
     "output_type": "stream",
     "text": [
      "-35.0\n"
     ]
    }
   ],
   "source": [
    "f=0\n",
    "for j in range(0,3):\n",
    "    f=f+w[j]*x[j]\n",
    "print(f+b)"
   ]
  },
  {
   "cell_type": "markdown",
   "id": "9dc1211f",
   "metadata": {},
   "source": [
    "As we can see that both the method gives the same answer"
   ]
  },
  {
   "cell_type": "markdown",
   "id": "cc117f0b",
   "metadata": {},
   "source": [
    "Just using a simple function syntax from numpy we can do it  in just one line"
   ]
  },
  {
   "cell_type": "code",
   "execution_count": 6,
   "id": "ee827cb2",
   "metadata": {},
   "outputs": [
    {
     "name": "stdout",
     "output_type": "stream",
     "text": [
      "-35.0\n"
     ]
    }
   ],
   "source": [
    "f=np.dot(w,x) + b\n",
    "print(f)"
   ]
  }
 ],
 "metadata": {
  "kernelspec": {
   "display_name": "Python 3",
   "language": "python",
   "name": "python3"
  },
  "language_info": {
   "codemirror_mode": {
    "name": "ipython",
    "version": 3
   },
   "file_extension": ".py",
   "mimetype": "text/x-python",
   "name": "python",
   "nbconvert_exporter": "python",
   "pygments_lexer": "ipython3",
   "version": "3.12.3"
  }
 },
 "nbformat": 4,
 "nbformat_minor": 5
}
