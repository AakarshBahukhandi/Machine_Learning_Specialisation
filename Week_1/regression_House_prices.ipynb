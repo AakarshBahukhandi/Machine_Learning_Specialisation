{
 "cells": [
  {
   "cell_type": "markdown",
   "metadata": {},
   "source": [
    "Step 1- Import important libraries and then change to a good style."
   ]
  },
  {
   "cell_type": "code",
   "execution_count": 3,
   "metadata": {},
   "outputs": [
    {
     "name": "stdout",
     "output_type": "stream",
     "text": [
      "['Solarize_Light2', '_classic_test_patch', '_mpl-gallery', '_mpl-gallery-nogrid', 'bmh', 'classic', 'dark_background', 'fast', 'fivethirtyeight', 'ggplot', 'grayscale', 'petroff10', 'seaborn-v0_8', 'seaborn-v0_8-bright', 'seaborn-v0_8-colorblind', 'seaborn-v0_8-dark', 'seaborn-v0_8-dark-palette', 'seaborn-v0_8-darkgrid', 'seaborn-v0_8-deep', 'seaborn-v0_8-muted', 'seaborn-v0_8-notebook', 'seaborn-v0_8-paper', 'seaborn-v0_8-pastel', 'seaborn-v0_8-poster', 'seaborn-v0_8-talk', 'seaborn-v0_8-ticks', 'seaborn-v0_8-white', 'seaborn-v0_8-whitegrid', 'tableau-colorblind10']\n"
     ]
    }
   ],
   "source": [
    "import numpy as np #This will import numpy library as np\n",
    "import matplotlib.pyplot as plt #This will import matplotlib library as plt\n",
    "print(plt.style.available) #This will give out the graph styles availailable \n",
    "plt.style.use('_classic_test_patch')"
   ]
  },
  {
   "cell_type": "markdown",
   "metadata": {},
   "source": [
    "Now we are Getting started with the same problem statement the house pricing-\n",
    "- This problem is univariate , having only 1 variable that is size.\n",
    "- we will make 2 variables using the numpy library.\n",
    "i-x(feature)(1=1000 sq feet),y(target)(1=1000 dollars)\n",
    "- We Have 2 points or (set of x and y)which ARE(1-1.0,300),(2.0,500)\n"
   ]
  },
  {
   "cell_type": "code",
   "execution_count": 4,
   "metadata": {},
   "outputs": [
    {
     "name": "stdout",
     "output_type": "stream",
     "text": [
      "input list(x_train) is = [1 2]\n",
      "output list(y_train) is = [300 500]\n"
     ]
    }
   ],
   "source": [
    "#Now we will make and and define variables for the graph.\n",
    "#x_trainis the input variable \n",
    "#y_train is the output variable\n",
    "x_train=np.array([1,2])\n",
    "y_train=np.array([300,500])\n",
    "print (f\"input list(x_train) is = {x_train}\")\n",
    "print (f\"output list(y_train) is = {y_train}\")"
   ]
  },
  {
   "cell_type": "code",
   "execution_count": 5,
   "metadata": {},
   "outputs": [
    {
     "name": "stdout",
     "output_type": "stream",
     "text": [
      "x_train.shape is = (2,)\n",
      "Number of traing examples: 2\n"
     ]
    }
   ],
   "source": [
    "#m is the number of training examples\n",
    "print(f\"x_train.shape is = {x_train.shape}\")\n",
    "m=x_train.shape[0]\n",
    "print (f\"Number of traing examples: {m}\")"
   ]
  },
  {
   "cell_type": "markdown",
   "metadata": {},
   "source": [
    "Training example x_i , y_i"
   ]
  },
  {
   "cell_type": "code",
   "execution_count": 12,
   "metadata": {},
   "outputs": [
    {
     "name": "stdout",
     "output_type": "stream",
     "text": [
      "(x^1,y^1)= (2,500)\n"
     ]
    }
   ],
   "source": [
    "\n",
    "i=1 #change this 1 to see x1 and y1\n",
    "\n",
    "print(f\"(x^{i},y^{i})= ({x_train[i]},{y_train[i]})\")"
   ]
  },
  {
   "cell_type": "markdown",
   "metadata": {},
   "source": [
    "Now we will plot the data using matlpot"
   ]
  },
  {
   "cell_type": "code",
   "execution_count": null,
   "metadata": {},
   "outputs": [
    {
     "data": {
      "image/png": "[encoded data removed]",
      "text/plain": [
       "<Figure size 640x480 with 1 Axes>"
      ]
     },
     "metadata": {},
     "output_type": "display_data"
    }
   ],
   "source": [
    "#plot data points \n",
    "plt.scatter(x_train,y_train, marker='x',c='b')\n",
    "#set the title\n",
    "plt.title('Housing prices')\n",
    "#Set the the Y-axis label\n",
    "plt.ylabel(\"Price(in 1000s of dollars)\")\n",
    "#Set the x-axis label\n",
    "plt.xlabel(\"Size (in 1000 sqft)\")\n",
    "plt.show() #This will show the graph"
   ]
  },
  {
   "cell_type": "markdown",
   "metadata": {},
   "source": [
    "A linear regression function is a regression in which each training example is a set of inputs which can be represented as the domain values for a Linear function ie- y=mx+c \n"
   ]
  },
  {
   "cell_type": "code",
   "execution_count": 8,
   "metadata": {},
   "outputs": [
    {
     "name": "stdout",
     "output_type": "stream",
     "text": [
      "w=200,b=100\n"
     ]
    }
   ],
   "source": [
    "#assigning w(The Slope) and b(the intercept)\n",
    "w=200\n",
    "b=100\n",
    "print(f\"w={w},b={b}\")"
   ]
  },
  {
   "cell_type": "markdown",
   "metadata": {},
   "source": [
    "We can make a simple 2 line of code for our previous problem as we have 2 example and can ve done using \n",
    "{f_wb=w*x[0]+b and f_wb=w*x[1]+b}"
   ]
  },
  {
   "cell_type": "markdown",
   "metadata": {},
   "source": [
    "But I have to generally deal with data which are of very large in sizes in some few months, so we will use a (function which will use for loop to process and get the value and arrays for all possible values) \n",
    "NOTE: The example of the previous problem can be solved usinf the things you had learned in maths (the slope of the line y2-y1/x2-x1), then by putting in any equation ie 300=w*1+b and others\n"
   ]
  },
  {
   "cell_type": "code",
   "execution_count": 22,
   "metadata": {},
   "outputs": [
    {
     "name": "stdout",
     "output_type": "stream",
     "text": [
      "[300. 500.]\n"
     ]
    }
   ],
   "source": [
    "def model_output(x,w,b):\n",
    "    \"\"\"It will do all the compututaions for linear regression model\n",
    "    Arguments: x_train(Array):input data , w,b(scalars):Model parameters\n",
    "    returns:the y or the predicted outpur which will be equal to the y_train\"\"\"\n",
    "    m=x.shape[0]\n",
    "    f_wb=np.zeros(m) #This will retrun a matrix havin same number of elements but having all values as 0\n",
    "    for i in range(m):\n",
    "        f_wb[i]=f_wb[i]+w*x[i]+b\n",
    "    print(f_wb)\n",
    "temp=model_output(x_train,w,b)"
   ]
  },
  {
   "cell_type": "markdown",
   "metadata": {},
   "source": [
    "Now a question | \n",
    "Q: Calculate price for house with area 1200 sqft.\n",
    "Ans=We know we can use the linear equation y(cost)=w*x[i]+b we found out the values using the points w=200 b=100\n"
   ]
  },
  {
   "cell_type": "code",
   "execution_count": 10,
   "metadata": {},
   "outputs": [
    {
     "name": "stdout",
     "output_type": "stream",
     "text": [
      "Cost of a house of size 1200.0 sqft is $340000.0\n"
     ]
    }
   ],
   "source": [
    "w=200\n",
    "b=100\n",
    "x_new=1.2 #as 1 unit = 1000 sqft\n",
    "y_new=w*x_new+b\n",
    "print(f\"Cost of a house of size {x_new*1000} sqft is ${y_new*1000}\")"
   ]
  },
  {
   "cell_type": "markdown",
   "metadata": {},
   "source": [
    "The project is done\n"
   ]
  }
 ],
 "metadata": {
  "kernelspec": {
   "display_name": "Python 3",
   "language": "python",
   "name": "python3"
  },
  "language_info": {
   "codemirror_mode": {
    "name": "ipython",
    "version": 3
   },
   "file_extension": ".py",
   "mimetype": "text/x-python",
   "name": "python",
   "nbconvert_exporter": "python",
   "pygments_lexer": "ipython3",
   "version": "3.12.3"
  }
 },
 "nbformat": 4,
 "nbformat_minor": 2
}
