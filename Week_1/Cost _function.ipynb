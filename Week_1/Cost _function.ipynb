{
 "cells": [
  {
   "cell_type": "markdown",
   "id": "0d882586",
   "metadata": {},
   "source": [
    "First we will just add the important libraries that we need to work upon"
   ]
  },
  {
   "cell_type": "code",
   "execution_count": 5,
   "id": "26682b06",
   "metadata": {},
   "outputs": [],
   "source": [
    "import numpy as np\n",
    "import matplotlib.pyplot as plt\n",
    "\n",
    "# Your training data\n",
    "x_train = np.array([1.0, 2.0])   # Size in 1000 sqft\n",
    "y_train = np.array([300.0, 500.0])  # Price in 1000s of dollars\n",
    "\n",
    "def compute_cost(x, y, w, b):\n",
    "    \"\"\"\n",
    "    Computes the cost function for linear regression\n",
    "    \n",
    "    Args:\n",
    "      x (ndarray): Input data (size)\n",
    "      y (ndarray): Target values (price)\n",
    "      w (float): Weight parameter\n",
    "      b (float): Bias parameter\n",
    "      \n",
    "    Returns:\n",
    "      cost (float): The calculated cost\n",
    "    \"\"\"\n",
    "    m = x.shape[0]  # Number of training examples\n",
    "    total_cost = 0\n",
    "    \n",
    "    for i in range(m):\n",
    "        # Calculate the predicted value\n",
    "        f_wb = w * x[i] + b\n",
    "        # Calculate the squared error for this example\n",
    "        cost = (f_wb - y[i]) ** 2\n",
    "        # Add to total cost\n",
    "        total_cost += cost\n",
    "    \n",
    "    # Calculate the average cost\n",
    "    total_cost = total_cost / (2 * m)\n",
    "    \n",
    "    return total_cost"
   ]
  },
  {
   "cell_type": "markdown",
   "id": "655504d7",
   "metadata": {},
   "source": []
  },
  {
   "cell_type": "code",
   "execution_count": 6,
   "id": "cf8c685a",
   "metadata": {},
   "outputs": [
    {
     "name": "stdout",
     "output_type": "stream",
     "text": [
      "Current cost with w=200, b=100: 0.0\n"
     ]
    },
    {
     "data": {
      "image/png": "[encoded data removed]",
      "text/plain": [
       "<Figure size 640x480 with 1 Axes>"
      ]
     },
     "metadata": {},
     "output_type": "display_data"
    }
   ],
   "source": [
    "# Current parameters\n",
    "w = 200\n",
    "b = 100\n",
    "\n",
    "# Calculate cost\n",
    "current_cost = compute_cost(x_train, y_train, w, b)\n",
    "print(f\"Current cost with w={w}, b={b}: {current_cost}\")\n",
    "plt.scatter(w, current_cost, color='blue', label='Training data')\n",
    "plt.show()"
   ]
  }
 ],
 "metadata": {
  "kernelspec": {
   "display_name": "Python 3",
   "language": "python",
   "name": "python3"
  },
  "language_info": {
   "codemirror_mode": {
    "name": "ipython",
    "version": 3
   },
   "file_extension": ".py",
   "mimetype": "text/x-python",
   "name": "python",
   "nbconvert_exporter": "python",
   "pygments_lexer": "ipython3",
   "version": "3.12.3"
  }
 },
 "nbformat": 4,
 "nbformat_minor": 5
}
